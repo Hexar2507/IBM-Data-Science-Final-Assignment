{
 "cells": [
  {
   "cell_type": "markdown",
   "id": "329bb8f5-6985-42fe-9a18-aa73adc6eb94",
   "metadata": {},
   "source": [
    "# Data Science Tools and Ecosystem"
   ]
  },
  {
   "cell_type": "markdown",
   "id": "24f9dffe-4e35-4e9d-b9cd-ca4759152c60",
   "metadata": {},
   "source": [
    "En este cuaderno, se resumen las herramientas y ecosistemas de ciencia de datos."
   ]
  },
  {
   "cell_type": "markdown",
   "id": "d65603f9-d172-49a2-a3be-564aff761aef",
   "metadata": {},
   "source": [
    "**Objetivos:**\n",
    "* Listar lenguajes populares para Ciencia de Datos.\n",
    "* Describir bibliotecas comúnmente usadas en Ciencia de Datos.\n",
    "* Mencionar herramientas de desarrollo de código abierto para Ciencia de Datos.\n",
    "* Presentar ejemplos de expresiones aritméticas en Python.\n",
    "* Compartir el cuaderno a través de GitHub."
   ]
  },
  {
   "cell_type": "markdown",
   "id": "08a393f6-9204-42a7-b1fc-d6813fe6787a",
   "metadata": {},
   "source": [
    "Algunos de los lenguajes populares que utilizan los cientificos de datos son:\n",
    "\n",
    "1. Python\n",
    "2. R\n",
    "3. SQL\n",
    "4. Julia"
   ]
  },
  {
   "cell_type": "markdown",
   "id": "e604ad64-ec9e-4c06-b381-cab812c1db33",
   "metadata": {},
   "source": [
    "Algunas de las bibliotecas comúnmente utilizadas por los científicos de datos incluyen:\n",
    "\n",
    "1. Pandas\n",
    "2. NumPy\n",
    "3. Matplotlib\n",
    "4. Scikit-learn"
   ]
  },
  {
   "cell_type": "markdown",
   "id": "a2702394-69b2-4644-aeea-05366815d085",
   "metadata": {},
   "source": [
    "| Herramientas de Ciencia de Datos  |\n",
    "|----------------------------------|\n",
    "| Jupyter Notebooks                |\n",
    "| RStudio                          |\n",
    "| Spyder                           | \n"
   ]
  },
  {
   "cell_type": "markdown",
   "id": "04102059-e15c-4980-8d45-f095e39766f8",
   "metadata": {},
   "source": [
    "### A continuación, se presentan algunos ejemplos de evaluación de expresiones aritméticas en Python."
   ]
  },
  {
   "cell_type": "code",
   "execution_count": 2,
   "id": "ac14b8c8-6d07-40b0-a3e3-f1dea758cd35",
   "metadata": {},
   "outputs": [
    {
     "data": {
      "text/plain": [
       "17"
      ]
     },
     "execution_count": 2,
     "metadata": {},
     "output_type": "execute_result"
    }
   ],
   "source": [
    "# Esta es una expresión aritmética simple para multiplicar y luego sumar enteros.\n",
    "(3*4)+5"
   ]
  },
  {
   "cell_type": "code",
   "execution_count": 3,
   "id": "40ad460a-32b4-4eaf-b10f-7656a27b51cb",
   "metadata": {},
   "outputs": [
    {
     "data": {
      "text/plain": [
       "3.3333333333333335"
      ]
     },
     "execution_count": 3,
     "metadata": {},
     "output_type": "execute_result"
    }
   ],
   "source": [
    "# Esto convertirá 200 minutos a horas dividiendo por 60.\n",
    "200 / 60"
   ]
  },
  {
   "cell_type": "markdown",
   "id": "9ee4b12b-fde8-4dbd-b82a-b76d40de3550",
   "metadata": {},
   "source": [
    "## Autor\n",
    "Hexar Eduardo Calatayud Peña"
   ]
  },
  {
   "cell_type": "code",
   "execution_count": null,
   "id": "3b7264fb-fb74-472e-b578-f4a935447f9b",
   "metadata": {},
   "outputs": [],
   "source": []
  }
 ],
 "metadata": {
  "kernelspec": {
   "display_name": "Python 3 (ipykernel)",
   "language": "python",
   "name": "python3"
  },
  "language_info": {
   "codemirror_mode": {
    "name": "ipython",
    "version": 3
   },
   "file_extension": ".py",
   "mimetype": "text/x-python",
   "name": "python",
   "nbconvert_exporter": "python",
   "pygments_lexer": "ipython3",
   "version": "3.12.8"
  }
 },
 "nbformat": 4,
 "nbformat_minor": 5
}
